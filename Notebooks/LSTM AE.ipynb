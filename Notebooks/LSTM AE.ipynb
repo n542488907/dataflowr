{
 "cells": [
  {
   "cell_type": "code",
   "execution_count": 15,
   "metadata": {
    "collapsed": true
   },
   "outputs": [],
   "source": [
    "from keras.models import Sequential, Model\n",
    "from keras.layers import Dense, LSTM, Input\n",
    "from keras.backend import clear_session\n",
    "import numpy as np\n",
    "import matplotlib\n",
    "import matplotlib.pyplot as plt\n",
    "from mpl_toolkits.mplot3d import Axes3D\n",
    "%matplotlib inline"
   ]
  },
  {
   "cell_type": "markdown",
   "metadata": {},
   "source": [
    "Plan\n",
    "\n",
    "- RNN\n",
    "- LSTM\n",
    "- Attention mechanism\n",
    "- Memory networks"
   ]
  },
  {
   "cell_type": "markdown",
   "metadata": {},
   "source": [
    "Recurrent neural networks\n",
    "\n",
    "The hidden state satisfies:\n",
    "$$h(t) = \\alpha(Wx(t) + Mh(t-1))$$\n",
    "\n",
    "Where $x$ is the input.\n",
    "\n",
    "BPTT (Backpropagation Through Time)\n",
    "\n",
    "- extension of backprop\n",
    "- trucated backprop (for numerical purposes, do not go until far away t)\n",
    "- Vanishing and Exploding gradient problem: gradient go to zero or to infty\n",
    "\n",
    "LSTM: solves the vanishing/exploding gradients. It adds cells where information it is choosen to be forgetted or kept. Gated recurrent units."
   ]
  },
  {
   "cell_type": "markdown",
   "metadata": {},
   "source": [
    "<h2>LSTM</h2>"
   ]
  },
  {
   "cell_type": "code",
   "execution_count": 27,
   "metadata": {
    "collapsed": true
   },
   "outputs": [],
   "source": [
    "#data input shape = (examples, timeseries_length, variables at time t used for prediction) -> value\n",
    "#target shape = (examples) -> value\n",
    "clear_session()"
   ]
  },
  {
   "cell_type": "code",
   "execution_count": 28,
   "metadata": {
    "collapsed": true
   },
   "outputs": [],
   "source": [
    "#model = Sequential()"
   ]
  },
  {
   "cell_type": "code",
   "execution_count": 29,
   "metadata": {
    "collapsed": true
   },
   "outputs": [],
   "source": [
    "#model.summary()"
   ]
  },
  {
   "cell_type": "code",
   "execution_count": 30,
   "metadata": {
    "collapsed": true
   },
   "outputs": [],
   "source": [
    "#history = model.fit(data_input,target,epochs=300,validation_data=(data_input,target))"
   ]
  },
  {
   "cell_type": "code",
   "execution_count": 31,
   "metadata": {
    "collapsed": true
   },
   "outputs": [],
   "source": [
    "#plt.plot(history.history['loss'])\n",
    "#it does not work because data is not normalized, so gradients need to be too high"
   ]
  },
  {
   "cell_type": "code",
   "execution_count": 32,
   "metadata": {
    "collapsed": true
   },
   "outputs": [],
   "source": [
    "import keras.backend as K\n",
    "\n",
    "n_input = 1\n",
    "n_output = 1\n",
    "n_units = 3\n",
    "\n",
    "#ENCODER\n",
    "\n",
    "encoder_input = Input(shape=(None, n_input))\n",
    "encoder_lstm1 = LSTM(n_units, return_sequences=True, return_state=True)\n",
    "encoder_lstm2 = LSTM(n_units, return_sequences=True, return_state=True)\n",
    "encoder_dense = Dense(1, activation='linear')\n",
    "\n",
    "encoder_output1, state_h1, state_c1 = encoder_lstm1(encoder_input)\n",
    "encoder_output2, state_h2, state_c2 = encoder_lstm2(encoder_output1)\n",
    "encoder_output = encoder_output2 = encoder_dense(encoder_output2)\n",
    "\n",
    "#DECODER\n",
    "\n",
    "decoder_lstm1 = LSTM(n_units, return_sequences=True, return_state=True)\n",
    "decoder_lstm2 = LSTM(n_units, return_sequences=True, return_state=True)\n",
    "decoder_dense = Dense(1,activation='linear')\n",
    "\n",
    "decoder_output1, state_h3, state_c3 = decoder_lstm1(encoder_output)\n",
    "decoder_output2, state_h4, state_c4 = decoder_lstm2(decoder_output1)\n",
    "output = decoder_dense(decoder_output2)\n",
    "\n",
    "#encoder_output --> brownian to match via KL divergence\n",
    "#state_c --> context to give to the decoder\n",
    "\n",
    "model = Model([encoder_input], [output])\n",
    "\n",
    "\n",
    "def custom_loss(layer):\n",
    "    # Create a loss function that adds the MSE loss to the mean of all squared activations of a specific layer\n",
    "    def loss(y_true,y_pred):\n",
    "        bm = K.flatten(layer)\n",
    "        mean = K.mean(bm)\n",
    "        var = K.var(bm)\n",
    "        KL_div = -0.5*K.log(var) + 0.5*var + 0.5*K.square(mean) - 0.5\n",
    "        return K.mean(K.square(y_pred - y_true)) + KL_div\n",
    "    # Return a function\n",
    "    return loss\n",
    "\n",
    "def custom_metric(layer):\n",
    "    def metric(y_true,y_pred):\n",
    "        bm = K.flatten(layer)\n",
    "        mean = K.mean(bm)\n",
    "        var = K.var(bm)\n",
    "        KL_div = -0.5*K.log(var) + 0.5*var + 0.5*K.square(mean) - 0.5\n",
    "        return KL_div\n",
    "    # Return a function\n",
    "    return metric\n",
    "\n",
    "model.compile(optimizer='adam',\n",
    "              loss=custom_loss(encoder_output),\n",
    "              metrics=['accuracy',custom_metric(encoder_output)])"
   ]
  },
  {
   "cell_type": "code",
   "execution_count": 33,
   "metadata": {
    "collapsed": false
   },
   "outputs": [
    {
     "name": "stdout",
     "output_type": "stream",
     "text": [
      "(1000, 100, 1)\n"
     ]
    }
   ],
   "source": [
    "all_input = np.zeros(shape=(1000,100,1))\n",
    "for i in range(1000):\n",
    "    mean = 0.02*np.random.normal(0,1)\n",
    "    vol = 0.2*np.random.random()\n",
    "    data_input = np.cumsum(mean+vol*np.random.normal(0,1,100)).reshape((100,1))\n",
    "    norm_input = (data_input-np.mean(data_input))/np.std(data_input)\n",
    "    all_input[i] = norm_input\n",
    "print(all_input.shape)"
   ]
  },
  {
   "cell_type": "code",
   "execution_count": 42,
   "metadata": {
    "collapsed": false,
    "scrolled": true
   },
   "outputs": [
    {
     "name": "stdout",
     "output_type": "stream",
     "text": [
      "Train on 1000 samples, validate on 1000 samples\n",
      "Epoch 1/30\n",
      "1000/1000 [==============================] - 5s 5ms/step - loss: 0.0961 - acc: 0.0000e+00 - metric: 0.0018 - val_loss: 0.0919 - val_acc: 0.0000e+00 - val_metric: 0.0016\n",
      "Epoch 2/30\n",
      "1000/1000 [==============================] - 5s 5ms/step - loss: 0.0888 - acc: 0.0000e+00 - metric: 0.0017 - val_loss: 0.0849 - val_acc: 0.0000e+00 - val_metric: 0.0015\n",
      "Epoch 3/30\n",
      "1000/1000 [==============================] - 5s 5ms/step - loss: 0.0819 - acc: 0.0000e+00 - metric: 0.0016 - val_loss: 0.0780 - val_acc: 0.0000e+00 - val_metric: 0.0013\n",
      "Epoch 4/30\n",
      "1000/1000 [==============================] - 5s 5ms/step - loss: 0.0754 - acc: 0.0000e+00 - metric: 0.0015 - val_loss: 0.0719 - val_acc: 0.0000e+00 - val_metric: 0.0012\n",
      "Epoch 5/30\n",
      "1000/1000 [==============================] - 5s 5ms/step - loss: 0.0695 - acc: 0.0000e+00 - metric: 0.0014 - val_loss: 0.0662 - val_acc: 0.0000e+00 - val_metric: 0.0010\n",
      "Epoch 6/30\n",
      "1000/1000 [==============================] - 5s 5ms/step - loss: 0.0638 - acc: 0.0000e+00 - metric: 0.0011 - val_loss: 0.0610 - val_acc: 0.0000e+00 - val_metric: 0.0010\n",
      "Epoch 7/30\n",
      "1000/1000 [==============================] - 5s 5ms/step - loss: 0.0588 - acc: 0.0000e+00 - metric: 0.0011 - val_loss: 0.0562 - val_acc: 0.0000e+00 - val_metric: 8.3645e-04\n",
      "Epoch 8/30\n",
      "1000/1000 [==============================] - 5s 5ms/step - loss: 0.0543 - acc: 0.0000e+00 - metric: 9.8176e-04 - val_loss: 0.0519 - val_acc: 0.0000e+00 - val_metric: 8.9124e-04\n",
      "Epoch 9/30\n",
      "1000/1000 [==============================] - 6s 6ms/step - loss: 0.0503 - acc: 0.0000e+00 - metric: 0.0011 - val_loss: 0.0482 - val_acc: 0.0000e+00 - val_metric: 6.3166e-04\n",
      "Epoch 10/30\n",
      "1000/1000 [==============================] - 6s 6ms/step - loss: 0.0467 - acc: 0.0000e+00 - metric: 8.1566e-04 - val_loss: 0.0449 - val_acc: 0.0000e+00 - val_metric: 7.2377e-04\n",
      "Epoch 11/30\n",
      "1000/1000 [==============================] - 6s 6ms/step - loss: 0.0437 - acc: 0.0000e+00 - metric: 7.3035e-04 - val_loss: 0.0422 - val_acc: 0.0000e+00 - val_metric: 5.9494e-04\n",
      "Epoch 12/30\n",
      "1000/1000 [==============================] - 6s 6ms/step - loss: 0.0412 - acc: 0.0000e+00 - metric: 7.4445e-04 - val_loss: 0.0399 - val_acc: 0.0000e+00 - val_metric: 5.4225e-04\n",
      "Epoch 13/30\n",
      "1000/1000 [==============================] - 6s 6ms/step - loss: 0.0391 - acc: 0.0000e+00 - metric: 6.5787e-04 - val_loss: 0.0379 - val_acc: 0.0000e+00 - val_metric: 6.7227e-04\n",
      "Epoch 14/30\n",
      "1000/1000 [==============================] - 6s 6ms/step - loss: 0.0372 - acc: 0.0000e+00 - metric: 6.6839e-04 - val_loss: 0.0361 - val_acc: 0.0000e+00 - val_metric: 6.1942e-04\n",
      "Epoch 15/30\n",
      "1000/1000 [==============================] - 6s 6ms/step - loss: 0.0355 - acc: 0.0000e+00 - metric: 6.6482e-04 - val_loss: 0.0345 - val_acc: 0.0000e+00 - val_metric: 5.3911e-04\n",
      "Epoch 16/30\n",
      "1000/1000 [==============================] - 6s 6ms/step - loss: 0.0339 - acc: 0.0000e+00 - metric: 6.2764e-04 - val_loss: 0.0330 - val_acc: 0.0000e+00 - val_metric: 3.7535e-04\n",
      "Epoch 17/30\n",
      "1000/1000 [==============================] - 6s 6ms/step - loss: 0.0326 - acc: 0.0000e+00 - metric: 5.9246e-04 - val_loss: 0.0316 - val_acc: 0.0000e+00 - val_metric: 4.1623e-04\n",
      "Epoch 18/30\n",
      "1000/1000 [==============================] - 6s 6ms/step - loss: 0.0312 - acc: 0.0000e+00 - metric: 5.6801e-04 - val_loss: 0.0304 - val_acc: 0.0000e+00 - val_metric: 3.9352e-04\n",
      "Epoch 19/30\n",
      "1000/1000 [==============================] - 6s 6ms/step - loss: 0.0300 - acc: 0.0000e+00 - metric: 4.6679e-04 - val_loss: 0.0293 - val_acc: 0.0000e+00 - val_metric: 3.2453e-04\n",
      "Epoch 20/30\n",
      "1000/1000 [==============================] - 6s 6ms/step - loss: 0.0289 - acc: 0.0000e+00 - metric: 4.8940e-04 - val_loss: 0.0281 - val_acc: 0.0000e+00 - val_metric: 3.1758e-04\n",
      "Epoch 21/30\n",
      "1000/1000 [==============================] - 6s 6ms/step - loss: 0.0279 - acc: 0.0000e+00 - metric: 5.8830e-04 - val_loss: 0.0273 - val_acc: 0.0000e+00 - val_metric: 1.9065e-04\n",
      "Epoch 22/30\n",
      "1000/1000 [==============================] - 6s 6ms/step - loss: 0.0268 - acc: 0.0000e+00 - metric: 3.9385e-04 - val_loss: 0.0262 - val_acc: 0.0000e+00 - val_metric: 3.6297e-04\n",
      "Epoch 23/30\n",
      "1000/1000 [==============================] - 6s 6ms/step - loss: 0.0257 - acc: 0.0000e+00 - metric: 3.0144e-04 - val_loss: 0.0252 - val_acc: 0.0000e+00 - val_metric: 2.7367e-04\n",
      "Epoch 24/30\n",
      "1000/1000 [==============================] - 6s 6ms/step - loss: 0.0250 - acc: 0.0000e+00 - metric: 4.2204e-04 - val_loss: 0.0244 - val_acc: 0.0000e+00 - val_metric: 2.6233e-04\n",
      "Epoch 25/30\n",
      "1000/1000 [==============================] - 6s 6ms/step - loss: 0.0241 - acc: 0.0000e+00 - metric: 3.1621e-04 - val_loss: 0.0236 - val_acc: 0.0000e+00 - val_metric: 3.5841e-04\n",
      "Epoch 26/30\n",
      "1000/1000 [==============================] - 6s 6ms/step - loss: 0.0233 - acc: 0.0000e+00 - metric: 3.7593e-04 - val_loss: 0.0228 - val_acc: 0.0000e+00 - val_metric: 2.8764e-04\n",
      "Epoch 27/30\n",
      "1000/1000 [==============================] - 6s 6ms/step - loss: 0.0225 - acc: 0.0000e+00 - metric: 3.3124e-04 - val_loss: 0.0220 - val_acc: 0.0000e+00 - val_metric: 2.8784e-04\n",
      "Epoch 28/30\n",
      "1000/1000 [==============================] - 6s 6ms/step - loss: 0.0218 - acc: 0.0000e+00 - metric: 4.0268e-04 - val_loss: 0.0213 - val_acc: 0.0000e+00 - val_metric: 1.7713e-04\n",
      "Epoch 29/30\n",
      "1000/1000 [==============================] - 6s 6ms/step - loss: 0.0210 - acc: 0.0000e+00 - metric: 2.4823e-04 - val_loss: 0.0206 - val_acc: 0.0000e+00 - val_metric: 1.9333e-04\n",
      "Epoch 30/30\n",
      "1000/1000 [==============================] - 6s 6ms/step - loss: 0.0203 - acc: 0.0000e+00 - metric: 2.2144e-04 - val_loss: 0.0199 - val_acc: 0.0000e+00 - val_metric: 2.1760e-04\n"
     ]
    }
   ],
   "source": [
    "history = model.fit(all_input,all_input,epochs=30,validation_data=(all_input,all_input))"
   ]
  },
  {
   "cell_type": "code",
   "execution_count": 43,
   "metadata": {
    "collapsed": false
   },
   "outputs": [
    {
     "data": {
      "text/plain": [
       "[<matplotlib.lines.Line2D at 0x7f29a3990190>]"
      ]
     },
     "execution_count": 43,
     "metadata": {},
     "output_type": "execute_result"
    },
    {
     "data": {
      "image/png": "[encoded data removed]",
      "text/plain": [
       "<matplotlib.figure.Figure at 0x7f29a3d337d0>"
      ]
     },
     "metadata": {},
     "output_type": "display_data"
    }
   ],
   "source": [
    "plt.plot(history.history['loss'])"
   ]
  },
  {
   "cell_type": "code",
   "execution_count": 48,
   "metadata": {
    "collapsed": true
   },
   "outputs": [],
   "source": [
    "mean = 0.02*np.random.normal(0,1)\n",
    "vol = 0.2*np.random.random()\n",
    "data_input = np.cumsum(mean+vol*np.random.normal(0,1,100)).reshape((100,1))\n",
    "\n",
    "data_mean = np.mean(data_input)\n",
    "data_std = np.std(data_input)\n",
    "norm_data = (data_input-data_mean)/data_std"
   ]
  },
  {
   "cell_type": "code",
   "execution_count": 49,
   "metadata": {
    "collapsed": false
   },
   "outputs": [
    {
     "data": {
      "text/plain": [
       "[<matplotlib.lines.Line2D at 0x7f29a385e950>]"
      ]
     },
     "execution_count": 49,
     "metadata": {},
     "output_type": "execute_result"
    },
    {
     "data": {
      "image/png": "[encoded data removed]",
      "text/plain": [
       "<matplotlib.figure.Figure at 0x7f29a385eb10>"
      ]
     },
     "metadata": {},
     "output_type": "display_data"
    }
   ],
   "source": [
    "outp = model.predict(norm_data.reshape(1,-1,1)).reshape(-1)\n",
    "plt.plot(outp*data_std+data_mean,'k')\n",
    "plt.plot(data_input,'r')"
   ]
  },
  {
   "cell_type": "code",
   "execution_count": null,
   "metadata": {
    "collapsed": true
   },
   "outputs": [],
   "source": []
  },
  {
   "cell_type": "code",
   "execution_count": null,
   "metadata": {
    "collapsed": true
   },
   "outputs": [],
   "source": []
  },
  {
   "cell_type": "code",
   "execution_count": null,
   "metadata": {
    "collapsed": true
   },
   "outputs": [],
   "source": []
  },
  {
   "cell_type": "code",
   "execution_count": null,
   "metadata": {
    "collapsed": true
   },
   "outputs": [],
   "source": []
  },
  {
   "cell_type": "code",
   "execution_count": null,
   "metadata": {
    "collapsed": true
   },
   "outputs": [],
   "source": []
  },
  {
   "cell_type": "code",
   "execution_count": null,
   "metadata": {
    "collapsed": true
   },
   "outputs": [],
   "source": []
  },
  {
   "cell_type": "code",
   "execution_count": null,
   "metadata": {
    "collapsed": true
   },
   "outputs": [],
   "source": []
  },
  {
   "cell_type": "code",
   "execution_count": null,
   "metadata": {
    "collapsed": true
   },
   "outputs": [],
   "source": []
  },
  {
   "cell_type": "code",
   "execution_count": null,
   "metadata": {
    "collapsed": true
   },
   "outputs": [],
   "source": []
  },
  {
   "cell_type": "code",
   "execution_count": null,
   "metadata": {
    "collapsed": true
   },
   "outputs": [],
   "source": []
  }
 ],
 "metadata": {
  "kernelspec": {
   "display_name": "Python 3",
   "language": "python",
   "name": "python3"
  },
  "language_info": {
   "codemirror_mode": {
    "name": "ipython",
    "version": 3
   },
   "file_extension": ".py",
   "mimetype": "text/x-python",
   "name": "python",
   "nbconvert_exporter": "python",
   "pygments_lexer": "ipython3",
   "version": "3.6.8"
  }
 },
 "nbformat": 4,
 "nbformat_minor": 2
}
